{
 "cells": [
  {
   "cell_type": "code",
   "execution_count": null,
   "metadata": {
    "vscode": {
     "languageId": "plaintext"
    }
   },
   "outputs": [],
   "source": [
    "import os\n",
    "import sys\n",
    "import pandas as pd\n",
    "import seaborn as sns\n",
    "\n",
    "sys.path.append(os.path.abspath('../scripts'))\n",
    "from EDA import load_data, descriptive_statistics, plot_histogram, plot_countplot, bivariate_multivariate_analysis, data_comparison, creative_visualizations, outlier_detection\n",
    "from load_data import load_data_from_txt, missing_values, fill_missing_values, data_structure"
   ]
  }
 ],
 "metadata": {
  "language_info": {
   "name": "python"
  }
 },
 "nbformat": 4,
 "nbformat_minor": 2
}
